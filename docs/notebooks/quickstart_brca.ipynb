{
 "cells": [
  {
   "attachments": {},
   "cell_type": "markdown",
   "metadata": {},
   "source": [
    "# CorALS - Quickstart"
   ]
  },
  {
   "cell_type": "markdown",
   "metadata": {},
   "source": [
    "## Prepare parallelization\n",
    "\n",
    "Before running anything, we make sure that `numpy` will not  oversubscribe CPUs and slow things down.\n",
    "Note that this has to be executed **before importing `numpy`**.\n",
    "\n",
    "* For full correlation matrix calculation, setting `n_threads > 1` can be used to parallelize the calculation.\n",
    "* For the top-k approaches, setting `n_threads=1` makes the most sense, since parallelization is specified separately."
   ]
  },
  {
   "cell_type": "code",
   "execution_count": 1,
   "metadata": {},
   "outputs": [
    {
     "name": "stderr",
     "output_type": "stream",
     "text": [
      "/opt/homebrew/lib/python3.10/site-packages/corals/threads.py:48: UserWarning: This function should be called before `numpy` or similar modules are imported.\n",
      "  warnings.warn(\"This function should be called before `numpy` or similar modules are imported.\")\n"
     ]
    }
   ],
   "source": [
    "import pandas as pd\n",
    "from corals.threads import set_threads_for_external_libraries\n",
    "set_threads_for_external_libraries(n_threads=1)\n",
    "\n"
   ]
  },
  {
   "cell_type": "code",
   "execution_count": 65,
   "metadata": {},
   "outputs": [],
   "source": [
    "sample_gene_matrix = pd.read_csv('brca_signature/brca_pancan_mrna.csv', index_col=0)\n",
    "\n",
    "sig_name = \"BRCA-EAS\"\n",
    "# Load the sample groups\n",
    "sample_groups = pd.read_csv(f'./brca_signature/spl_cor_brca.csv.csv', index_col=0) \n",
    "# Load the gene groups\n",
    "gene_groups = pd.read_csv(f'./brca_signature/sig_cor_brca_top1000.csv', index_col=0) \n",
    "gene_groups = gene_groups.iloc[0:50,:]"
   ]
  },
  {
   "cell_type": "code",
   "execution_count": 66,
   "metadata": {},
   "outputs": [],
   "source": [
    "group = \"BRCA1104\"\n",
    "group_samples = sample_groups.index\n",
    "group_genes = gene_groups.index\n",
    "# Get the intersection of available samples and genes\n",
    "available_samples = group_samples.intersection(sample_gene_matrix.columns)\n",
    "available_genes = group_genes.intersection(sample_gene_matrix.index)\n",
    "# Extract the corresponding subset of the sample-gene matrix data\n",
    "group_data = sample_gene_matrix.loc[available_genes, available_samples].transpose()\n",
    "group_data = group_data.fillna(0)"
   ]
  },
  {
   "attachments": {},
   "cell_type": "markdown",
   "metadata": {},
   "source": [
    "## FULL CORR"
   ]
  },
  {
   "cell_type": "code",
   "execution_count": 67,
   "metadata": {},
   "outputs": [],
   "source": [
    "# df to array\n",
    "X = group_data.to_numpy()\n",
    "# reusing correlation from the top-k example\n",
    "# runtime: ~5 sec with `n_jobs=8`\n",
    "\n",
    "\n",
    "# FULL\n",
    "from corals.correlation.full.default import cor_full\n",
    "cor_values = cor_full(X)\n",
    "cor_full = pd.DataFrame(cor_values, columns = group_data.columns)\n",
    "cor_full.index = group_data.columns\n",
    "# Save the extracted data to a new CSV file\n",
    "filename = f\"brca_signature/corfull_{sig_name}_{group}.csv\"\n",
    "cor_full.to_csv(filename)\n",
    "\n"
   ]
  },
  {
   "cell_type": "code",
   "execution_count": 68,
   "metadata": {},
   "outputs": [
    {
     "data": {
      "text/plain": [
       "(49, 49)"
      ]
     },
     "execution_count": 68,
     "metadata": {},
     "output_type": "execute_result"
    }
   ],
   "source": [
    "cor_full.shape"
   ]
  },
  {
   "attachments": {},
   "cell_type": "markdown",
   "metadata": {},
   "source": [
    "## TOP-K"
   ]
  },
  {
   "cell_type": "code",
   "execution_count": 64,
   "metadata": {},
   "outputs": [
    {
     "name": "stdout",
     "output_type": "stream",
     "text": [
      "1104\n",
      "928\n"
     ]
    },
    {
     "name": "stderr",
     "output_type": "stream",
     "text": [
      "/opt/homebrew/lib/python3.10/site-packages/corals/correlation/utils.py:227: RuntimeWarning: divide by zero encountered in divide\n",
      "  ts = rf * rf * (df / (1 - rf * rf))\n"
     ]
    }
   ],
   "source": [
    "# TOP K\n",
    "n_samples = X.shape[0]\n",
    "n_features = X.shape[1]\n",
    "print(n_samples)\n",
    "print(n_features)\n",
    "\n",
    "from corals.correlation.topk.default import cor_topk\n",
    "cor_topk_values, cor_topk_coo = cor_topk(X, correlation_type=\"spearman\", k=0.1, n_jobs=8)\n",
    "\n",
    "from corals.correlation.utils import derive_pvalues, multiple_test_correction\n",
    "# calculate p-values\n",
    "pvalues = derive_pvalues(cor_topk_values, n_samples)\n",
    "\n",
    "\n",
    "\n",
    "cor = pd.DataFrame(cor_topk_values, columns=['cor'])\n",
    "p = pd.DataFrame(pvalues, columns=['pvalue'])\n",
    "coo = pd.DataFrame(cor_topk_coo).transpose()\n",
    "pair = pd.DataFrame({\n",
    "    'start': group_data.columns[cor_topk_coo[0]],\n",
    "    'end': group_data.columns[cor_topk_coo[1]]\n",
    "})\n",
    "# concatenate the two dataframes horizontally\n",
    "df_concat = pd.concat([coo, pair, cor, p], axis=1)\n",
    "df_concat = df_concat.loc[df_concat['cor'] != 1]\n",
    "# Save the extracted data to a new CSV file\n",
    "\n",
    "\n",
    "# Save the extracted data to a new CSV file\n",
    "filename = f\"brca_signature/topk_{sig_name}_{group}.csv\"\n",
    "df_concat.to_csv(filename)\n",
    "\n",
    "\n",
    "\n",
    "\n"
   ]
  }
 ],
 "metadata": {
  "kernelspec": {
   "display_name": "Python 3",
   "language": "python",
   "name": "python3"
  },
  "language_info": {
   "codemirror_mode": {
    "name": "ipython",
    "version": 3
   },
   "file_extension": ".py",
   "mimetype": "text/x-python",
   "name": "python",
   "nbconvert_exporter": "python",
   "pygments_lexer": "ipython3",
   "version": "3.10.8"
  },
  "vscode": {
   "interpreter": {
    "hash": "b0fa6594d8f4cbf19f97940f81e996739fb7646882a419484c72d19e05852a7e"
   }
  }
 },
 "nbformat": 4,
 "nbformat_minor": 4
}
